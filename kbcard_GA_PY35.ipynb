{
  "nbformat": 4,
  "nbformat_minor": 0,
  "metadata": {
    "colab": {
      "name": "kbcard-GA-PY35",
      "version": "0.3.2",
      "provenance": [],
      "toc_visible": true,
      "include_colab_link": true
    },
    "kernelspec": {
      "name": "python3",
      "display_name": "Python 3"
    }
  },
  "cells": [
    {
      "cell_type": "markdown",
      "metadata": {
        "id": "view-in-github",
        "colab_type": "text"
      },
      "source": [
        "[View in Colaboratory](https://colab.research.google.com/github/jqkim/GAS01/blob/master/kbcard_GA_PY35.ipynb)"
      ]
    },
    {
      "metadata": {
        "id": "ZvLtP4e5FW7c",
        "colab_type": "text"
      },
      "cell_type": "markdown",
      "source": [
        "# BigQuery 연동가이드\n",
        "https://cloud.google.com/bigquery/docs/quickstarts/quickstart-client-libraries?hl=ko#client-libraries-usage-python\n",
        "\n",
        "---\n",
        "\n",
        "#\tDataset Details:\n",
        "*   163643707: KB카드 Web/App\n",
        "*   166743151: (구)KB카드\n",
        "*   170731889: 리브메이트\n",
        "*   176700305:앱카드\n",
        "---\n"
      ]
    },
    {
      "metadata": {
        "id": "tn0wVrz5FIob",
        "colab_type": "code",
        "colab": {}
      },
      "cell_type": "code",
      "source": [
        "from google.cloud import bigquery\n",
        "from google.colab import auth\n",
        "  \n",
        "project_id = 'kbcard-bigquery'\n",
        "auth.authenticate_user()\t\n",
        "client = bigquery.Client(project=project_id)"
      ],
      "execution_count": 0,
      "outputs": []
    },
    {
      "metadata": {
        "id": "Whq-AjGjFNvF",
        "colab_type": "code",
        "colab": {
          "base_uri": "https://localhost:8080/",
          "height": 197
        },
        "outputId": "26c3833c-857b-4e7f-fabc-872b23f840e9"
      },
      "cell_type": "code",
      "source": [
        "query_job = client.query(\"\"\"SELECT * FROM `kbcard-bigquery.106358837.appsessions`LIMIT 10\"\"\")\n",
        "\n",
        "results = query_job.result()  # Waits for job to complete.\n",
        "for row in results:\n",
        "  print(\"{} : {} views\".format(row.cid, row.hits_customDimensions_index))"
      ],
      "execution_count": 2,
      "outputs": [
        {
          "output_type": "stream",
          "text": [
            "8136507796949931846_1529242927 : 4 views\n",
            "8136580948896855784_1529209741 : 4 views\n",
            "8136825368667230413_1529202591 : 4 views\n",
            "8136847327614620790_1529197235 : 4 views\n",
            "8136847327614620790_1529197239 : 4 views\n",
            "8136847327614620790_1529222486 : 4 views\n",
            "8136908591675042637_1529227226 : 4 views\n",
            "8136908591675042637_1529227227 : 4 views\n",
            "8137053707806601840_1529165118 : 4 views\n",
            "8137053707806601840_1529240396 : 4 views\n"
          ],
          "name": "stdout"
        }
      ]
    }
  ]
}